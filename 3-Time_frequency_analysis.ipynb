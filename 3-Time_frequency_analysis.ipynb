{
 "cells": [
  {
   "cell_type": "markdown",
   "metadata": {},
   "source": [
    "# Frequency and time-frequency sensors analysis\n",
    "\n",
    "\n",
    "The objective is to show you how to explore the spectral content\n",
    "of your data (frequency and time-frequency). Here we'll work on Epochs.\n",
    "\n",
    "    Authors: Britta Westner, Alexandre Gramfort, Stefan Appelhoff, Richard Höchenberger, Denis A. Engemann\n",
    "    License: BSD (3-clause)"
   ]
  },
  {
   "cell_type": "code",
   "execution_count": null,
   "metadata": {},
   "outputs": [],
   "source": [
    "%matplotlib inline\n",
    "import os\n",
    "\n",
    "import numpy as np\n",
    "import matplotlib.pyplot as plt\n",
    "\n",
    "import mne\n",
    "from mne.time_frequency import tfr_morlet"
   ]
  },
  {
   "cell_type": "markdown",
   "metadata": {},
   "source": [
    "As before, we again set our paths. Then we load the epochs data we have saved.\n"
   ]
  },
  {
   "cell_type": "code",
   "execution_count": null,
   "metadata": {},
   "outputs": [],
   "source": [
    "mne.set_log_level('error')\n",
    "\n",
    "# Change the following path to where the folder ds000117 is on your disk\n",
    "data_path = os.path.expanduser(\"~/Documents/teaching/practical_meeg_2022_data/ds000117\")\n",
    "\n",
    "epochs_fname = os.path.join(data_path,\n",
    "    'derivatives/meg_derivatives/sub-01/ses-meg/meg/sub-01_ses-meg_task-facerecognition_run-01_proc-sss-epo.fif')"
   ]
  },
  {
   "cell_type": "code",
   "execution_count": null,
   "metadata": {},
   "outputs": [],
   "source": [
    "epochs = mne.read_epochs(epochs_fname, proj=True)"
   ]
  },
  {
   "cell_type": "code",
   "execution_count": null,
   "metadata": {},
   "outputs": [],
   "source": [
    "epochs.info"
   ]
  },
  {
   "cell_type": "markdown",
   "metadata": {},
   "source": [
    "Frequency analysis\n",
    "------------------\n",
    "\n",
    "We start by exploring the frequency content of our epochs.\n",
    "\n"
   ]
  },
  {
   "cell_type": "markdown",
   "metadata": {},
   "source": [
    "Let's first check out the power spectrum of the different channel types by averaging across epochs.\n",
    "\n",
    "<li> The \"bandwidth\" parameter controls the spectral resolution of the multitaper. You can increase the resolution by chosing a narrower bandwidth at the cost of longer computation time.</li>\n",
    "<li> You can also set method to `'welch'`, which will compute a power spectrum without using multi tapers.</li>\n"
   ]
  },
  {
   "cell_type": "code",
   "execution_count": null,
   "metadata": {},
   "outputs": [],
   "source": [
    "# Let's first compute the power spectrum\n",
    "\n",
    "epochs_psd = epochs.compute_psd(method='multitaper', fmin=2., fmax=40., bandwidth=2.)"
   ]
  },
  {
   "cell_type": "code",
   "execution_count": null,
   "metadata": {},
   "outputs": [],
   "source": [
    "epochs_psd"
   ]
  },
  {
   "cell_type": "code",
   "execution_count": null,
   "metadata": {},
   "outputs": [],
   "source": [
    "%matplotlib qt\n",
    "epochs_psd.plot();"
   ]
  },
  {
   "cell_type": "markdown",
   "metadata": {},
   "source": [
    "<div class=\"alert alert-success\">\n",
    "    <b>EXERCISE</b>:\n",
    "     <ul>\n",
    "    <li> What is the name of the EEG channel with the highest power at high frequencies?</li>\n",
    "    <li> What do the topographies at (roughly) 8-12 Hz look like?</li>\n",
    "    </ul>\n",
    "</div>"
   ]
  },
  {
   "cell_type": "markdown",
   "metadata": {},
   "source": [
    "We can also look at the topographies of this power spectrum, e.g. for different frequency bands. Here, we have to specify a channel type!"
   ]
  },
  {
   "cell_type": "code",
   "execution_count": null,
   "metadata": {},
   "outputs": [],
   "source": [
    "%matplotlib inline\n",
    "bands = {'Theta (4-8 Hz)': (4, 8), 'Alpha (8-12 Hz)': (8, 12), \n",
    "         'Beta (12-30 Hz)': (12, 30), 'Gamma (30-05 Hz)': (30, 40)}\n",
    "epochs_psd.plot_topomap(ch_type='mag', bands=bands, normalize=False, cmap='viridis');"
   ]
  },
  {
   "cell_type": "markdown",
   "metadata": {},
   "source": [
    "The output of `compute_psd()` is a `Spectrum` object. We can index it similarly to `Epochs`.\n",
    "\n",
    "Sometimes it can be interesting to consider the relative power, defined as the power in a given band divided by the total power. To explore this option, we can set the `normalize` parameter to `True`."
   ]
  },
  {
   "cell_type": "code",
   "execution_count": null,
   "metadata": {},
   "outputs": [],
   "source": [
    "epochs_psd['face'].plot_topomap(ch_type='mag', bands=bands, normalize=True, cmap='viridis');\n",
    "epochs_psd['scrambled'].plot_topomap(ch_type='mag', bands=bands, normalize=True, cmap='viridis');"
   ]
  },
  {
   "cell_type": "markdown",
   "metadata": {},
   "source": [
    "## Time-frequency analysis: power and inter-trial coherence\n",
    "\n",
    "We now compute time-frequency representations (TFRs) from our Epochs.\n",
    "We'll look at power and inter-trial coherence (ITC).\n",
    "\n",
    "To this we'll use the function `mne.time_frequency.tfr_morlet`\n",
    "but you can also use `mne.time_frequency.tfr_multitaper`\n",
    "or `mne.time_frequency.tfr_stockwell`."
   ]
  },
  {
   "cell_type": "code",
   "execution_count": null,
   "metadata": {},
   "outputs": [],
   "source": [
    "# define frequencies of interest (log-spaced)\n",
    "freqs = np.logspace(*np.log10([4, 30]), num=20)\n",
    "n_cycles = 5.  \n",
    "power, itc = tfr_morlet(epochs, freqs=freqs, n_cycles=n_cycles, use_fft=True,\n",
    "                        return_itc=True, decim=3, n_jobs=1)"
   ]
  },
  {
   "cell_type": "code",
   "execution_count": null,
   "metadata": {},
   "outputs": [],
   "source": [
    " # crop to remove edge artifacts\n",
    "power.crop(-0.2, 1.6) \n",
    "itc.crop(-0.2, 1.6) "
   ]
  },
  {
   "cell_type": "markdown",
   "metadata": {},
   "source": [
    "Inspect power\n",
    "-------------\n",
    "\n",
    "Let's look at the time-frequency spectra of all channels.\n",
    "\n",
    "\n",
    "<div class=\"alert alert-info\"><h4>Note</h4><p>The generated figures are interactive. In the topo you can click\n",
    "    on an image to visualize the data for one sensor.\n",
    "    You can also select a portion in the time-frequency plane to\n",
    "    obtain a topomap for a certain time-frequency region.</p></div>\n",
    "\n"
   ]
  },
  {
   "cell_type": "code",
   "execution_count": null,
   "metadata": {},
   "outputs": [],
   "source": [
    "# Some setting for our baseline, which will be applied to the plots\n",
    "baseline_mode = 'logratio' \n",
    "baseline = (-0.2, 0)\n",
    "# Important Note : this baseline is way too short to look great at low frequencies : \n",
    "# For 4Hz, 200ms window is too short (less than one cycle) and from the taper computation, \n",
    "# we would like the computing window ends at 0, not after (centered on 0 here)\n",
    "# Best advice would be to re-cut the epochs to get more than 500ms of baseline,\n",
    "# or with thoses data, to use n_cycles2 = 4 and baseline = (-0.3, 0.1)"
   ]
  },
  {
   "cell_type": "code",
   "execution_count": null,
   "metadata": {},
   "outputs": [],
   "source": [
    "%matplotlib qt\n",
    "power.plot_topo(baseline=baseline, mode=baseline_mode, title='Average power');"
   ]
  },
  {
   "cell_type": "code",
   "execution_count": null,
   "metadata": {},
   "outputs": [],
   "source": [
    "%matplotlib inline\n",
    "power.plot([83], baseline=baseline, mode=baseline_mode, title=power.ch_names[83]);"
   ]
  },
  {
   "cell_type": "markdown",
   "metadata": {},
   "source": [
    "We can look at topographies again - "
   ]
  },
  {
   "cell_type": "code",
   "execution_count": null,
   "metadata": {},
   "outputs": [],
   "source": [
    "fig, axes = plt.subplots(1, 3, figsize=(7, 4))\n",
    "plot_freqs = [(4, 7), (8, 12), (15, 30)]\n",
    "titles = ['Theta', 'Alpha', 'Beta']\n",
    "\n",
    "for ax, freq, title in zip(axes, plot_freqs, titles):\n",
    "    power.plot_topomap(ch_type='mag', tmin=0.5, tmax=1.0, \n",
    "                   fmin=freq[0], fmax=freq[1],\n",
    "                   baseline=baseline, mode=baseline_mode, \n",
    "                   axes=ax, show=False, contours=1)\n",
    "    ax.set_title(title)\n",
    "\n",
    "mne.viz.tight_layout()\n",
    "plt.show()"
   ]
  },
  {
   "cell_type": "markdown",
   "metadata": {},
   "source": [
    "Joint Plot\n",
    "----------\n",
    "You can also create a joint plot showing both the aggregated TFR\n",
    "across channels and topomaps at specific times and frequencies to obtain\n",
    "a quick overview regarding oscillatory effects across time and space.\n",
    "\n"
   ]
  },
  {
   "cell_type": "code",
   "execution_count": null,
   "metadata": {},
   "outputs": [],
   "source": [
    "power.plot_topo?"
   ]
  },
  {
   "cell_type": "code",
   "execution_count": null,
   "metadata": {},
   "outputs": [],
   "source": [
    "power.plot_joint(baseline=baseline, mode='mean', tmin=None, tmax=None,\n",
    "                 timefreqs=[(0.2, 4.), (1., 10.)]);"
   ]
  },
  {
   "cell_type": "markdown",
   "metadata": {},
   "source": [
    "## Compute FWHM for our wavelets\n",
    "\n",
    "We defined our wavelets based on _number of cycles_. Mike X Cohen (Cohen 2019, NeuroImage (199, p. 81-86)) argues that it is better to define the full-width-at-half-maximum (FWHM) of the Morlet wavelet.\n",
    "\n",
    "You might remember that our wavelet of `n_cycles` gets multiplied with a Gaussian taper that dampens the wavelet towards the edges. Thus, the FWHM is a better estimate of the temporal smoothing than the full length of `n_cycles`.\n",
    "\n",
    "Let's see how to do this:"
   ]
  },
  {
   "cell_type": "code",
   "execution_count": null,
   "metadata": {},
   "outputs": [],
   "source": [
    "# First let's check our cycles per frequency - we had specified them above:\n",
    "freqs, n_cycles  # this is the number of cycles we asked for per frequency"
   ]
  },
  {
   "cell_type": "markdown",
   "metadata": {},
   "source": [
    "The formula to retrieve the FWHM is (Cohen 2019, eq. 4):\n",
    "\n",
    "$ FWHM = \\frac{n  \\sqrt(2  \\ln 2)}{\\pi * f} \\enspace,$\n",
    "\n",
    "where $n$ is the number of cycles, $f$ is the frequency, and $\\ln$ denotes the natural logarithm.\n",
    "\n",
    "Let's convert this equation into a little function!"
   ]
  },
  {
   "cell_type": "code",
   "execution_count": null,
   "metadata": {},
   "outputs": [],
   "source": [
    "def get_fwhm_morlet(n_cycles, freq):\n",
    "    \"\"\"Estimate the FWHM of a Morlet wavelet.\"\"\"\n",
    "\n",
    "    fwhm = (n_cycles * np.sqrt(2 * np.log(2))) / (np.pi * freq)\n",
    "    return fwhm\n"
   ]
  },
  {
   "cell_type": "markdown",
   "metadata": {},
   "source": [
    "Now let's estimate what length of the FWHM of our Morlet wavelets was in seconds:"
   ]
  },
  {
   "cell_type": "code",
   "execution_count": null,
   "metadata": {},
   "outputs": [],
   "source": [
    "for freq in freqs:\n",
    "    \n",
    "    # estimate fwhm\n",
    "    fwhm = get_fwhm_morlet(n_cycles, freq)\n",
    "\n",
    "    # print it\n",
    "    print('FWHM at %.3f Hz was %.3f s' % (freq, fwhm))"
   ]
  },
  {
   "cell_type": "markdown",
   "metadata": {},
   "source": [
    "Inspect ITC\n",
    "-----------\n",
    "\n"
   ]
  },
  {
   "cell_type": "code",
   "execution_count": null,
   "metadata": {},
   "outputs": [],
   "source": [
    "%matplotlib qt\n",
    "itc.plot_topo(title='Inter-Trial coherence', vmin=0., vmax=1., cmap='Reds');"
   ]
  },
  {
   "cell_type": "code",
   "execution_count": null,
   "metadata": {},
   "outputs": [],
   "source": [
    "%matplotlib inline\n",
    "itc.plot_joint(baseline=baseline, mode='mean', tmin=None, tmax=None,\n",
    "                 timefreqs=[(0.2, 4.), (1., 10.)]);"
   ]
  }
 ],
 "metadata": {
  "kernelspec": {
   "display_name": "Python 3 (ipykernel)",
   "language": "python",
   "name": "python3"
  },
  "language_info": {
   "codemirror_mode": {
    "name": "ipython",
    "version": 3
   },
   "file_extension": ".py",
   "mimetype": "text/x-python",
   "name": "python",
   "nbconvert_exporter": "python",
   "pygments_lexer": "ipython3",
   "version": "3.10.6"
  },
  "vscode": {
   "interpreter": {
    "hash": "96118219f514f0f7c28e51c58abb2aa3e9c527721ceabff83c3dd194a32d9fc1"
   }
  }
 },
 "nbformat": 4,
 "nbformat_minor": 4
}
